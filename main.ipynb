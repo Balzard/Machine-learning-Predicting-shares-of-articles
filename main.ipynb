{
 "metadata": {
  "language_info": {
   "codemirror_mode": {
    "name": "ipython",
    "version": 3
   },
   "file_extension": ".py",
   "mimetype": "text/x-python",
   "name": "python",
   "nbconvert_exporter": "python",
   "pygments_lexer": "ipython3",
   "version": "3.7.7-final"
  },
  "orig_nbformat": 2,
  "kernelspec": {
   "name": "python3",
   "display_name": "Python 3.7.7 64-bit",
   "metadata": {
    "interpreter": {
     "hash": "f3aabb56ceede8bbce4061734790a50077821e4e2e3353160b6deb4f0667efe9"
    }
   }
  }
 },
 "nbformat": 4,
 "nbformat_minor": 2,
 "cells": [
  {
   "cell_type": "code",
   "execution_count": 249,
   "metadata": {},
   "outputs": [],
   "source": [
    "import pandas as pd \n",
    "import numpy as np \n",
    "import matplotlib.pyplot as plt\n",
    "import matplotlib as mpl\n",
    "from sklearn import linear_model\n",
    "from sklearn.feature_selection import mutual_info_regression, RFE, mutual_info_classif, VarianceThreshold\n",
    "from sklearn.linear_model import LogisticRegression\n",
    "from sklearn.tree import DecisionTreeClassifier\n",
    "from rmse import compute_rmse"
   ]
  },
  {
   "cell_type": "code",
   "execution_count": 250,
   "metadata": {},
   "outputs": [],
   "source": [
    "X1 = pd.read_csv(\"X1.csv\")\n",
    "Y1 = pd.read_csv(\"Y1.csv\", header=None, names=[\"shares\"])"
   ]
  },
  {
   "cell_type": "code",
   "execution_count": 251,
   "metadata": {},
   "outputs": [
    {
     "output_type": "execute_result",
     "data": {
      "text/plain": [
       "   n_tokens_title  n_tokens_content  n_unique_tokens  n_non_stop_words  \\\n",
       "0            10.0             379.0         0.521622               1.0   \n",
       "1            12.0             402.0         0.502660               1.0   \n",
       "2            11.0               0.0         0.000000               0.0   \n",
       "3             9.0             256.0         0.619608               1.0   \n",
       "4            12.0             268.0         0.591603               1.0   \n",
       "\n",
       "   n_non_stop_unique_tokens  num_hrefs  num_self_hrefs  num_imgs  num_videos  \\\n",
       "0                  0.697248        5.0             2.0       1.0         0.0   \n",
       "1                  0.645299       12.0            10.0       1.0         0.0   \n",
       "2                  0.000000        0.0             0.0       0.0         1.0   \n",
       "3                  0.792208        2.0             0.0       0.0         1.0   \n",
       "4                  0.740260        1.0             1.0       1.0         1.0   \n",
       "\n",
       "   average_token_length  ...  avg_positive_polarity  min_positive_polarity  \\\n",
       "0              4.126649  ...               0.368452                    0.1   \n",
       "1              4.537313  ...               0.270170                    0.1   \n",
       "2              0.000000  ...               0.000000                    0.0   \n",
       "3              4.644531  ...               0.245130                    0.1   \n",
       "4              4.671642  ...               0.539076                    0.2   \n",
       "\n",
       "   max_positive_polarity  avg_negative_polarity  min_negative_polarity  \\\n",
       "0                    0.5              -0.244444              -0.500000   \n",
       "1                    0.5              -0.159259              -0.166667   \n",
       "2                    0.0               0.000000               0.000000   \n",
       "3                    1.0              -0.500000              -0.500000   \n",
       "4                    1.0              -0.254167              -0.500000   \n",
       "\n",
       "   max_negative_polarity  title_subjectivity  title_sentiment_polarity  \\\n",
       "0              -0.050000            0.227273                  0.068182   \n",
       "1              -0.155556            0.500000                  0.500000   \n",
       "2               0.000000            0.000000                  0.000000   \n",
       "3              -0.500000            0.200000                  0.100000   \n",
       "4              -0.050000            0.000000                  0.000000   \n",
       "\n",
       "   abs_title_subjectivity  abs_title_sentiment_polarity  \n",
       "0                0.272727                      0.068182  \n",
       "1                0.000000                      0.500000  \n",
       "2                0.500000                      0.000000  \n",
       "3                0.300000                      0.100000  \n",
       "4                0.500000                      0.000000  \n",
       "\n",
       "[5 rows x 58 columns]"
      ],
      "text/html": "<div>\n<style scoped>\n    .dataframe tbody tr th:only-of-type {\n        vertical-align: middle;\n    }\n\n    .dataframe tbody tr th {\n        vertical-align: top;\n    }\n\n    .dataframe thead th {\n        text-align: right;\n    }\n</style>\n<table border=\"1\" class=\"dataframe\">\n  <thead>\n    <tr style=\"text-align: right;\">\n      <th></th>\n      <th>n_tokens_title</th>\n      <th>n_tokens_content</th>\n      <th>n_unique_tokens</th>\n      <th>n_non_stop_words</th>\n      <th>n_non_stop_unique_tokens</th>\n      <th>num_hrefs</th>\n      <th>num_self_hrefs</th>\n      <th>num_imgs</th>\n      <th>num_videos</th>\n      <th>average_token_length</th>\n      <th>...</th>\n      <th>avg_positive_polarity</th>\n      <th>min_positive_polarity</th>\n      <th>max_positive_polarity</th>\n      <th>avg_negative_polarity</th>\n      <th>min_negative_polarity</th>\n      <th>max_negative_polarity</th>\n      <th>title_subjectivity</th>\n      <th>title_sentiment_polarity</th>\n      <th>abs_title_subjectivity</th>\n      <th>abs_title_sentiment_polarity</th>\n    </tr>\n  </thead>\n  <tbody>\n    <tr>\n      <th>0</th>\n      <td>10.0</td>\n      <td>379.0</td>\n      <td>0.521622</td>\n      <td>1.0</td>\n      <td>0.697248</td>\n      <td>5.0</td>\n      <td>2.0</td>\n      <td>1.0</td>\n      <td>0.0</td>\n      <td>4.126649</td>\n      <td>...</td>\n      <td>0.368452</td>\n      <td>0.1</td>\n      <td>0.5</td>\n      <td>-0.244444</td>\n      <td>-0.500000</td>\n      <td>-0.050000</td>\n      <td>0.227273</td>\n      <td>0.068182</td>\n      <td>0.272727</td>\n      <td>0.068182</td>\n    </tr>\n    <tr>\n      <th>1</th>\n      <td>12.0</td>\n      <td>402.0</td>\n      <td>0.502660</td>\n      <td>1.0</td>\n      <td>0.645299</td>\n      <td>12.0</td>\n      <td>10.0</td>\n      <td>1.0</td>\n      <td>0.0</td>\n      <td>4.537313</td>\n      <td>...</td>\n      <td>0.270170</td>\n      <td>0.1</td>\n      <td>0.5</td>\n      <td>-0.159259</td>\n      <td>-0.166667</td>\n      <td>-0.155556</td>\n      <td>0.500000</td>\n      <td>0.500000</td>\n      <td>0.000000</td>\n      <td>0.500000</td>\n    </tr>\n    <tr>\n      <th>2</th>\n      <td>11.0</td>\n      <td>0.0</td>\n      <td>0.000000</td>\n      <td>0.0</td>\n      <td>0.000000</td>\n      <td>0.0</td>\n      <td>0.0</td>\n      <td>0.0</td>\n      <td>1.0</td>\n      <td>0.000000</td>\n      <td>...</td>\n      <td>0.000000</td>\n      <td>0.0</td>\n      <td>0.0</td>\n      <td>0.000000</td>\n      <td>0.000000</td>\n      <td>0.000000</td>\n      <td>0.000000</td>\n      <td>0.000000</td>\n      <td>0.500000</td>\n      <td>0.000000</td>\n    </tr>\n    <tr>\n      <th>3</th>\n      <td>9.0</td>\n      <td>256.0</td>\n      <td>0.619608</td>\n      <td>1.0</td>\n      <td>0.792208</td>\n      <td>2.0</td>\n      <td>0.0</td>\n      <td>0.0</td>\n      <td>1.0</td>\n      <td>4.644531</td>\n      <td>...</td>\n      <td>0.245130</td>\n      <td>0.1</td>\n      <td>1.0</td>\n      <td>-0.500000</td>\n      <td>-0.500000</td>\n      <td>-0.500000</td>\n      <td>0.200000</td>\n      <td>0.100000</td>\n      <td>0.300000</td>\n      <td>0.100000</td>\n    </tr>\n    <tr>\n      <th>4</th>\n      <td>12.0</td>\n      <td>268.0</td>\n      <td>0.591603</td>\n      <td>1.0</td>\n      <td>0.740260</td>\n      <td>1.0</td>\n      <td>1.0</td>\n      <td>1.0</td>\n      <td>1.0</td>\n      <td>4.671642</td>\n      <td>...</td>\n      <td>0.539076</td>\n      <td>0.2</td>\n      <td>1.0</td>\n      <td>-0.254167</td>\n      <td>-0.500000</td>\n      <td>-0.050000</td>\n      <td>0.000000</td>\n      <td>0.000000</td>\n      <td>0.500000</td>\n      <td>0.000000</td>\n    </tr>\n  </tbody>\n</table>\n<p>5 rows × 58 columns</p>\n</div>"
     },
     "metadata": {},
     "execution_count": 251
    }
   ],
   "source": [
    "n_samples, n_feats = X1.shape\n",
    "X1.head()"
   ]
  },
  {
   "cell_type": "code",
   "execution_count": 252,
   "metadata": {},
   "outputs": [
    {
     "output_type": "execute_result",
     "data": {
      "text/plain": [
       "   shares\n",
       "0    1200\n",
       "1    2500\n",
       "2    1500\n",
       "3    1800\n",
       "4     542"
      ],
      "text/html": "<div>\n<style scoped>\n    .dataframe tbody tr th:only-of-type {\n        vertical-align: middle;\n    }\n\n    .dataframe tbody tr th {\n        vertical-align: top;\n    }\n\n    .dataframe thead th {\n        text-align: right;\n    }\n</style>\n<table border=\"1\" class=\"dataframe\">\n  <thead>\n    <tr style=\"text-align: right;\">\n      <th></th>\n      <th>shares</th>\n    </tr>\n  </thead>\n  <tbody>\n    <tr>\n      <th>0</th>\n      <td>1200</td>\n    </tr>\n    <tr>\n      <th>1</th>\n      <td>2500</td>\n    </tr>\n    <tr>\n      <th>2</th>\n      <td>1500</td>\n    </tr>\n    <tr>\n      <th>3</th>\n      <td>1800</td>\n    </tr>\n    <tr>\n      <th>4</th>\n      <td>542</td>\n    </tr>\n  </tbody>\n</table>\n</div>"
     },
     "metadata": {},
     "execution_count": 252
    }
   ],
   "source": [
    "Y1.head()"
   ]
  },
  {
   "source": [
    "# Feature selection : filter approach first"
   ],
   "cell_type": "markdown",
   "metadata": {}
  },
  {
   "cell_type": "code",
   "execution_count": 253,
   "metadata": {},
   "outputs": [
    {
     "output_type": "stream",
     "name": "stdout",
     "text": [
      "['n_tokens_title', 'n_tokens_content', 'n_unique_tokens', 'n_non_stop_words', 'n_non_stop_unique_tokens', 'num_hrefs', 'num_self_hrefs', 'num_imgs', 'num_videos', 'average_token_length', 'num_keywords', 'data_channel_is_lifestyle', 'data_channel_is_entertainment', 'data_channel_is_bus', 'data_channel_is_socmed', 'data_channel_is_tech', 'data_channel_is_world', 'kw_min_min', 'kw_max_min', 'kw_avg_min', 'kw_min_max', 'kw_max_max', 'kw_avg_max', 'kw_min_avg', 'kw_max_avg', 'kw_avg_avg', 'self_reference_min_shares', 'self_reference_max_shares', 'self_reference_avg_sharess', 'weekday_is_monday', 'weekday_is_tuesday', 'weekday_is_wednesday', 'weekday_is_thursday', 'weekday_is_friday', 'weekday_is_saturday', 'weekday_is_sunday', 'is_weekend', 'LDA_00', 'LDA_01', 'LDA_02', 'LDA_03', 'LDA_04', 'global_subjectivity', 'global_sentiment_polarity', 'global_rate_positive_words', 'global_rate_negative_words', 'rate_positive_words', 'rate_negative_words', 'avg_positive_polarity', 'min_positive_polarity', 'max_positive_polarity', 'avg_negative_polarity', 'min_negative_polarity', 'max_negative_polarity', 'title_subjectivity', 'title_sentiment_polarity', 'abs_title_subjectivity', 'abs_title_sentiment_polarity']\n"
     ]
    }
   ],
   "source": [
    "features = [i for i in X1.keys()]\n",
    "print(features)"
   ]
  },
  {
   "cell_type": "code",
   "execution_count": 257,
   "metadata": {},
   "outputs": [
    {
     "output_type": "stream",
     "name": "stdout",
     "text": [
      "1.0\n"
     ]
    }
   ],
   "source": [
    "# 'is_weekend' is a linear combination of 'weekday_is_saturday'and 'weekday_is_sunday'\n",
    "weekend = X1[\"weekday_is_saturday\"] + X1[\"weekday_is_sunday\"]\n",
    "corr = weekend.corr(X1[\"is_weekend\"])\n",
    "print(corr)"
   ]
  },
  {
   "cell_type": "code",
   "execution_count": 255,
   "metadata": {},
   "outputs": [],
   "source": [
    "data_channel = X1['data_channel_is_lifestyle'] + X1['data_channel_is_entertainment'] + X1['data_channel_is_bus'] + X1['data_channel_is_socmed'] + X1['data_channel_is_tech'] + X1['data_channel_is_world']"
   ]
  },
  {
   "cell_type": "code",
   "execution_count": 233,
   "metadata": {
    "tags": []
   },
   "outputs": [],
   "source": [
    "# correlation matrix between features\n",
    "corr_matrix = X1.corr()"
   ]
  },
  {
   "cell_type": "code",
   "execution_count": 234,
   "metadata": {
    "tags": []
   },
   "outputs": [
    {
     "output_type": "stream",
     "name": "stdout",
     "text": [
      "kw_max_min kw_avg_min\nkw_avg_min kw_max_min\n"
     ]
    }
   ],
   "source": [
    "for i in corr_matrix.keys():\n",
    "    for j,k in corr_matrix[i].items():\n",
    "        if corr_matrix[i][j] >= 0.95 and i != j:\n",
    "            print(i,j)"
   ]
  },
  {
   "cell_type": "code",
   "execution_count": 236,
   "metadata": {},
   "outputs": [
    {
     "output_type": "stream",
     "name": "stdout",
     "text": [
      "[2.58678419e-02 1.17225235e-02 3.34840782e-03 5.35212849e-01\n 4.53411481e-04 1.35717037e-02 1.86387101e-02 1.45842979e-01\n 2.14124148e-02 1.06653704e-02 1.64983731e-02 0.00000000e+00\n 1.90888702e-02 6.03751400e-03 1.41546274e-02 1.39240276e-02\n 3.28255098e-02 1.98881254e-01 1.13804595e-02 1.24173948e-02\n 9.93914062e-03 3.14349724e-01 1.63273865e-02 3.40868875e-02\n 3.81972631e-02 3.19302477e-02 2.73285894e-02 3.05848757e-02\n 4.71866389e-02 0.00000000e+00 2.51306672e-03 0.00000000e+00\n 1.04838313e-02 8.10350322e-03 1.46875951e-02 5.95259235e-03\n 2.23268494e-02 1.96653788e-02 1.48366299e-02 2.22797998e-02\n 2.13947575e-02 2.54365745e-02 4.57158385e-03 7.64721799e-03\n 1.61022550e-03 0.00000000e+00 2.34161301e-04 1.59304492e-03\n 2.84010319e-03 8.11997184e-02 5.33809805e-02 0.00000000e+00\n 9.56994611e-03 2.67674835e-02 1.22014884e-02 5.50872884e-04\n 1.40945922e-01 2.88561893e-03]\n"
     ]
    }
   ],
   "source": [
    "# use this because Y is discrete variable -> https://scikit-learn.org/stable/modules/generated/sklearn.feature_selection.mutual_info_classif.html\n",
    "MI = mutual_info_classif(X1,Y1)\n",
    "print(MI)"
   ]
  },
  {
   "cell_type": "code",
   "execution_count": 238,
   "metadata": {},
   "outputs": [
    {
     "output_type": "stream",
     "name": "stdout",
     "text": [
      "[('data_channel_is_lifestyle', 11), ('weekday_is_monday', 29), ('weekday_is_wednesday', 31), ('global_rate_negative_words', 45), ('avg_negative_polarity', 51)]\n"
     ]
    }
   ],
   "source": [
    "features_0_MI = [(features[i],i) for i in range(len(MI)) if MI[i] == 0]\n",
    "print(features_0_MI)"
   ]
  },
  {
   "cell_type": "code",
   "execution_count": 239,
   "metadata": {},
   "outputs": [
    {
     "output_type": "execute_result",
     "data": {
      "text/plain": [
       "(19822, 53)"
      ]
     },
     "metadata": {},
     "execution_count": 239
    }
   ],
   "source": [
    "# remove features that have 0 mutual info\n",
    "for i in features_0_MI:\n",
    "    features.pop(i[1])\n",
    "    X1 = X1.drop(i[0],1)\n",
    "X1.shape"
   ]
  },
  {
   "cell_type": "code",
   "execution_count": 240,
   "metadata": {},
   "outputs": [
    {
     "output_type": "stream",
     "name": "stdout",
     "text": [
      "53\n"
     ]
    }
   ],
   "source": [
    "print(len(features))"
   ]
  },
  {
   "cell_type": "code",
   "execution_count": 241,
   "metadata": {},
   "outputs": [
    {
     "output_type": "stream",
     "name": "stdout",
     "text": [
      "Number of features with zero variance: 0\n"
     ]
    },
    {
     "output_type": "execute_result",
     "data": {
      "text/plain": [
       "array([4.46787876e+00, 8.47400000e+03, 1.86280137e-02, 2.85467125e-02,\n",
       "       2.34718086e-02, 1.23272729e+02, 1.56426224e+01, 6.93468052e+01,\n",
       "       1.60219057e+01, 7.03784556e-01, 3.67005846e+00, 1.47794923e-01,\n",
       "       1.34107534e-01, 5.52297574e-02, 1.51058618e-01, 1.64087309e-01,\n",
       "       3.78000000e+02, 2.98400000e+05, 4.28288571e+04, 8.43300000e+05,\n",
       "       8.43300000e+05, 8.43300000e+05, 3.61071838e+03, 2.98400000e+05,\n",
       "       4.35676599e+04, 6.90400000e+05, 8.43300000e+05, 6.90400000e+05,\n",
       "       1.52008450e-01, 1.49689203e-01, 1.23286700e-01, 5.76711585e-02,\n",
       "       6.50331793e-02, 1.14111323e-01, 6.95220164e-02, 4.84788179e-02,\n",
       "       7.83866948e-02, 8.73689942e-02, 8.44382378e-02, 1.35781671e-02,\n",
       "       9.31495379e-03, 3.02938832e-04, 3.58479204e-02, 2.42453788e-02,\n",
       "       1.08967107e-02, 4.93520885e-03, 6.14883854e-02, 8.36385941e-02,\n",
       "       9.38918552e-03, 1.05307072e-01, 6.97871978e-02, 3.56897836e-02,\n",
       "       5.05401104e-02])"
      ]
     },
     "metadata": {},
     "execution_count": 241
    }
   ],
   "source": [
    "sel = VarianceThreshold() # no parameter so remove all zero variance features\n",
    "sel.fit_transform(X1)\n",
    "print(\"Number of features with zero variance: \" + str(X1.shape[1]-len(sel.variances_)))\n",
    "sel.variances_"
   ]
  },
  {
   "source": [
    "# Linear regression"
   ],
   "cell_type": "markdown",
   "metadata": {}
  },
  {
   "cell_type": "code",
   "execution_count": 244,
   "metadata": {},
   "outputs": [],
   "source": [
    "regr = linear_model.LinearRegression()\n",
    "predict = regr.fit(X1,Y1)"
   ]
  },
  {
   "cell_type": "code",
   "execution_count": 247,
   "metadata": {},
   "outputs": [
    {
     "output_type": "error",
     "ename": "KeyError",
     "evalue": "'weekday_is_monday'",
     "traceback": [
      "\u001b[1;31m---------------------------------------------------------------------------\u001b[0m",
      "\u001b[1;31mKeyError\u001b[0m                                  Traceback (most recent call last)",
      "\u001b[1;32m~\\AppData\\Local\\Programs\\Python\\Python37\\lib\\site-packages\\pandas\\core\\indexes\\base.py\u001b[0m in \u001b[0;36mget_loc\u001b[1;34m(self, key, method, tolerance)\u001b[0m\n\u001b[0;32m   2894\u001b[0m             \u001b[1;32mtry\u001b[0m\u001b[1;33m:\u001b[0m\u001b[1;33m\u001b[0m\u001b[1;33m\u001b[0m\u001b[0m\n\u001b[1;32m-> 2895\u001b[1;33m                 \u001b[1;32mreturn\u001b[0m \u001b[0mself\u001b[0m\u001b[1;33m.\u001b[0m\u001b[0m_engine\u001b[0m\u001b[1;33m.\u001b[0m\u001b[0mget_loc\u001b[0m\u001b[1;33m(\u001b[0m\u001b[0mcasted_key\u001b[0m\u001b[1;33m)\u001b[0m\u001b[1;33m\u001b[0m\u001b[1;33m\u001b[0m\u001b[0m\n\u001b[0m\u001b[0;32m   2896\u001b[0m             \u001b[1;32mexcept\u001b[0m \u001b[0mKeyError\u001b[0m \u001b[1;32mas\u001b[0m \u001b[0merr\u001b[0m\u001b[1;33m:\u001b[0m\u001b[1;33m\u001b[0m\u001b[1;33m\u001b[0m\u001b[0m\n",
      "\u001b[1;32mpandas\\_libs\\index.pyx\u001b[0m in \u001b[0;36mpandas._libs.index.IndexEngine.get_loc\u001b[1;34m()\u001b[0m\n",
      "\u001b[1;32mpandas\\_libs\\index.pyx\u001b[0m in \u001b[0;36mpandas._libs.index.IndexEngine.get_loc\u001b[1;34m()\u001b[0m\n",
      "\u001b[1;32mpandas\\_libs\\hashtable_class_helper.pxi\u001b[0m in \u001b[0;36mpandas._libs.hashtable.PyObjectHashTable.get_item\u001b[1;34m()\u001b[0m\n",
      "\u001b[1;32mpandas\\_libs\\hashtable_class_helper.pxi\u001b[0m in \u001b[0;36mpandas._libs.hashtable.PyObjectHashTable.get_item\u001b[1;34m()\u001b[0m\n",
      "\u001b[1;31mKeyError\u001b[0m: 'weekday_is_monday'",
      "\nThe above exception was the direct cause of the following exception:\n",
      "\u001b[1;31mKeyError\u001b[0m                                  Traceback (most recent call last)",
      "\u001b[1;32m<ipython-input-247-428cc10606fe>\u001b[0m in \u001b[0;36m<module>\u001b[1;34m\u001b[0m\n\u001b[0;32m      1\u001b[0m \u001b[0mlm\u001b[0m \u001b[1;33m=\u001b[0m \u001b[0mregr\u001b[0m\u001b[1;33m.\u001b[0m\u001b[0mintercept_\u001b[0m\u001b[1;33m\u001b[0m\u001b[1;33m\u001b[0m\u001b[0m\n\u001b[0;32m      2\u001b[0m \u001b[1;32mfor\u001b[0m \u001b[0mi\u001b[0m \u001b[1;32min\u001b[0m \u001b[0mrange\u001b[0m\u001b[1;33m(\u001b[0m\u001b[1;36m0\u001b[0m\u001b[1;33m,\u001b[0m\u001b[1;36m52\u001b[0m\u001b[1;33m)\u001b[0m\u001b[1;33m:\u001b[0m\u001b[1;33m\u001b[0m\u001b[1;33m\u001b[0m\u001b[0m\n\u001b[1;32m----> 3\u001b[1;33m     \u001b[0mlm\u001b[0m \u001b[1;33m=\u001b[0m \u001b[0mlm\u001b[0m \u001b[1;33m+\u001b[0m \u001b[0mpredict\u001b[0m\u001b[1;33m.\u001b[0m\u001b[0mcoef_\u001b[0m\u001b[1;33m[\u001b[0m\u001b[1;36m0\u001b[0m\u001b[1;33m]\u001b[0m\u001b[1;33m[\u001b[0m\u001b[0mi\u001b[0m\u001b[1;33m]\u001b[0m \u001b[1;33m*\u001b[0m \u001b[0mX1\u001b[0m\u001b[1;33m[\u001b[0m\u001b[0mfeatures\u001b[0m\u001b[1;33m[\u001b[0m\u001b[0mi\u001b[0m\u001b[1;33m]\u001b[0m\u001b[1;33m]\u001b[0m\u001b[1;33m\u001b[0m\u001b[1;33m\u001b[0m\u001b[0m\n\u001b[0m",
      "\u001b[1;32m~\\AppData\\Local\\Programs\\Python\\Python37\\lib\\site-packages\\pandas\\core\\frame.py\u001b[0m in \u001b[0;36m__getitem__\u001b[1;34m(self, key)\u001b[0m\n\u001b[0;32m   2900\u001b[0m             \u001b[1;32mif\u001b[0m \u001b[0mself\u001b[0m\u001b[1;33m.\u001b[0m\u001b[0mcolumns\u001b[0m\u001b[1;33m.\u001b[0m\u001b[0mnlevels\u001b[0m \u001b[1;33m>\u001b[0m \u001b[1;36m1\u001b[0m\u001b[1;33m:\u001b[0m\u001b[1;33m\u001b[0m\u001b[1;33m\u001b[0m\u001b[0m\n\u001b[0;32m   2901\u001b[0m                 \u001b[1;32mreturn\u001b[0m \u001b[0mself\u001b[0m\u001b[1;33m.\u001b[0m\u001b[0m_getitem_multilevel\u001b[0m\u001b[1;33m(\u001b[0m\u001b[0mkey\u001b[0m\u001b[1;33m)\u001b[0m\u001b[1;33m\u001b[0m\u001b[1;33m\u001b[0m\u001b[0m\n\u001b[1;32m-> 2902\u001b[1;33m             \u001b[0mindexer\u001b[0m \u001b[1;33m=\u001b[0m \u001b[0mself\u001b[0m\u001b[1;33m.\u001b[0m\u001b[0mcolumns\u001b[0m\u001b[1;33m.\u001b[0m\u001b[0mget_loc\u001b[0m\u001b[1;33m(\u001b[0m\u001b[0mkey\u001b[0m\u001b[1;33m)\u001b[0m\u001b[1;33m\u001b[0m\u001b[1;33m\u001b[0m\u001b[0m\n\u001b[0m\u001b[0;32m   2903\u001b[0m             \u001b[1;32mif\u001b[0m \u001b[0mis_integer\u001b[0m\u001b[1;33m(\u001b[0m\u001b[0mindexer\u001b[0m\u001b[1;33m)\u001b[0m\u001b[1;33m:\u001b[0m\u001b[1;33m\u001b[0m\u001b[1;33m\u001b[0m\u001b[0m\n\u001b[0;32m   2904\u001b[0m                 \u001b[0mindexer\u001b[0m \u001b[1;33m=\u001b[0m \u001b[1;33m[\u001b[0m\u001b[0mindexer\u001b[0m\u001b[1;33m]\u001b[0m\u001b[1;33m\u001b[0m\u001b[1;33m\u001b[0m\u001b[0m\n",
      "\u001b[1;32m~\\AppData\\Local\\Programs\\Python\\Python37\\lib\\site-packages\\pandas\\core\\indexes\\base.py\u001b[0m in \u001b[0;36mget_loc\u001b[1;34m(self, key, method, tolerance)\u001b[0m\n\u001b[0;32m   2895\u001b[0m                 \u001b[1;32mreturn\u001b[0m \u001b[0mself\u001b[0m\u001b[1;33m.\u001b[0m\u001b[0m_engine\u001b[0m\u001b[1;33m.\u001b[0m\u001b[0mget_loc\u001b[0m\u001b[1;33m(\u001b[0m\u001b[0mcasted_key\u001b[0m\u001b[1;33m)\u001b[0m\u001b[1;33m\u001b[0m\u001b[1;33m\u001b[0m\u001b[0m\n\u001b[0;32m   2896\u001b[0m             \u001b[1;32mexcept\u001b[0m \u001b[0mKeyError\u001b[0m \u001b[1;32mas\u001b[0m \u001b[0merr\u001b[0m\u001b[1;33m:\u001b[0m\u001b[1;33m\u001b[0m\u001b[1;33m\u001b[0m\u001b[0m\n\u001b[1;32m-> 2897\u001b[1;33m                 \u001b[1;32mraise\u001b[0m \u001b[0mKeyError\u001b[0m\u001b[1;33m(\u001b[0m\u001b[0mkey\u001b[0m\u001b[1;33m)\u001b[0m \u001b[1;32mfrom\u001b[0m \u001b[0merr\u001b[0m\u001b[1;33m\u001b[0m\u001b[1;33m\u001b[0m\u001b[0m\n\u001b[0m\u001b[0;32m   2898\u001b[0m \u001b[1;33m\u001b[0m\u001b[0m\n\u001b[0;32m   2899\u001b[0m         \u001b[1;32mif\u001b[0m \u001b[0mtolerance\u001b[0m \u001b[1;32mis\u001b[0m \u001b[1;32mnot\u001b[0m \u001b[1;32mNone\u001b[0m\u001b[1;33m:\u001b[0m\u001b[1;33m\u001b[0m\u001b[1;33m\u001b[0m\u001b[0m\n",
      "\u001b[1;31mKeyError\u001b[0m: 'weekday_is_monday'"
     ]
    }
   ],
   "source": [
    "lm = regr.intercept_\n",
    "for i in range(0,52):\n",
    "    lm = lm + predict.coef_[0][i] * X1[features[i]]"
   ]
  },
  {
   "cell_type": "code",
   "execution_count": 91,
   "metadata": {},
   "outputs": [
    {
     "output_type": "execute_result",
     "data": {
      "text/plain": [
       "0        10.0\n",
       "1        12.0\n",
       "2        11.0\n",
       "3         9.0\n",
       "4        12.0\n",
       "         ... \n",
       "19817     8.0\n",
       "19818    11.0\n",
       "19819    14.0\n",
       "19820    10.0\n",
       "19821    13.0\n",
       "Name: n_tokens_title, Length: 19822, dtype: float64"
      ]
     },
     "metadata": {},
     "execution_count": 91
    }
   ],
   "source": [
    "X1[features[0]]"
   ]
  },
  {
   "cell_type": "code",
   "execution_count": null,
   "metadata": {},
   "outputs": [],
   "source": []
  }
 ]
}